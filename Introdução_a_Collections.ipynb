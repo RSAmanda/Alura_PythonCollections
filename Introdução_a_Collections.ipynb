{
  "nbformat": 4,
  "nbformat_minor": 0,
  "metadata": {
    "colab": {
      "provenance": [],
      "authorship_tag": "ABX9TyOuksVCLrUpcRfRwjR1aa2g"
    },
    "kernelspec": {
      "name": "python3",
      "display_name": "Python 3"
    },
    "language_info": {
      "name": "python"
    },
    "gpuClass": "standard"
  },
  "cells": [
    {
      "cell_type": "markdown",
      "source": [
        "#Introdução a Python Collections"
      ],
      "metadata": {
        "id": "2XerVOtyt_ja"
      }
    },
    {
      "cell_type": "markdown",
      "source": [
        "##Documentação Data Structures\n",
        "\n",
        "https://docs.python.org/3/tutorial/datastructures.html"
      ],
      "metadata": {
        "id": "967tf7h5uuFv"
      }
    },
    {
      "cell_type": "markdown",
      "source": [
        "##Observações:\n",
        "* Lista pode ser definida como uma sequência de valores com acesso aleatório.\n",
        "* No python, a lista pode ter seus valores alterados.\n",
        "\n",
        "###Exemplos de comandos com listas\n",
        "\n",
        "Conjunto de idades de um grupo de pessoas.\n",
        "\n"
      ],
      "metadata": {
        "id": "eh8vvO90vY9C"
      }
    },
    {
      "cell_type": "markdown",
      "source": [
        "Inicializando uma lista"
      ],
      "metadata": {
        "id": "8zjyjRtJvmgJ"
      }
    },
    {
      "cell_type": "code",
      "source": [
        "idades = [39, 30, 27, 18]"
      ],
      "metadata": {
        "id": "Z4IzqygSu2v-"
      },
      "execution_count": null,
      "outputs": []
    },
    {
      "cell_type": "markdown",
      "source": [
        "Qual o tipo da variável 'idades'?"
      ],
      "metadata": {
        "id": "8rc_iMz9v9et"
      }
    },
    {
      "cell_type": "code",
      "source": [
        "type(idades)"
      ],
      "metadata": {
        "colab": {
          "base_uri": "https://localhost:8080/"
        },
        "id": "aSc6ifQZv5Yu",
        "outputId": "d1fe3a8c-5c2b-4eb5-ddf6-2fd06ad93778"
      },
      "execution_count": null,
      "outputs": [
        {
          "output_type": "execute_result",
          "data": {
            "text/plain": [
              "list"
            ]
          },
          "metadata": {},
          "execution_count": 3
        }
      ]
    },
    {
      "cell_type": "markdown",
      "source": [
        "tamanho da lista:"
      ],
      "metadata": {
        "id": "nm8IxNe1wtRj"
      }
    },
    {
      "cell_type": "code",
      "source": [
        "len(idades)"
      ],
      "metadata": {
        "colab": {
          "base_uri": "https://localhost:8080/"
        },
        "id": "k2eNz0MewOR2",
        "outputId": "ac486879-dd48-4507-da3f-f27094537d47"
      },
      "execution_count": null,
      "outputs": [
        {
          "output_type": "execute_result",
          "data": {
            "text/plain": [
              "4"
            ]
          },
          "metadata": {},
          "execution_count": 4
        }
      ]
    },
    {
      "cell_type": "markdown",
      "source": [
        "No python, o primeira posição é o zero (assim com o no C e outras linguagens similares)"
      ],
      "metadata": {
        "id": "Zr7R8tjBw8CT"
      }
    },
    {
      "cell_type": "code",
      "source": [
        "idades[0]"
      ],
      "metadata": {
        "colab": {
          "base_uri": "https://localhost:8080/"
        },
        "id": "CpK0olxWw3Sn",
        "outputId": "4d4772c4-a558-41d5-f16d-814641634030"
      },
      "execution_count": null,
      "outputs": [
        {
          "output_type": "execute_result",
          "data": {
            "text/plain": [
              "39"
            ]
          },
          "metadata": {},
          "execution_count": 5
        }
      ]
    },
    {
      "cell_type": "code",
      "source": [],
      "metadata": {
        "id": "IaGoaaUFxUwl"
      },
      "execution_count": null,
      "outputs": []
    },
    {
      "cell_type": "markdown",
      "source": [
        "Adicionando um valor no final da lista."
      ],
      "metadata": {
        "id": "Bvv4wkddzPth"
      }
    },
    {
      "cell_type": "code",
      "source": [
        "idades.append(15)"
      ],
      "metadata": {
        "id": "2aGxk3NtzWqb"
      },
      "execution_count": null,
      "outputs": []
    },
    {
      "cell_type": "code",
      "source": [
        "print(idades)"
      ],
      "metadata": {
        "colab": {
          "base_uri": "https://localhost:8080/"
        },
        "id": "hg0N24L2zbQg",
        "outputId": "bf66c929-31b9-4680-80bf-68769f067ac4"
      },
      "execution_count": null,
      "outputs": [
        {
          "output_type": "stream",
          "name": "stdout",
          "text": [
            "[39, 30, 27, 18, 15]\n"
          ]
        }
      ]
    },
    {
      "cell_type": "markdown",
      "source": [
        "Remover um elemento pelo seu valor. A função remove a primeira aparição no valor.\n",
        "\n",
        "exemplo: removendo o valor 30"
      ],
      "metadata": {
        "id": "g9Oh1I85zvpI"
      }
    },
    {
      "cell_type": "code",
      "source": [
        "idades.remove(30)"
      ],
      "metadata": {
        "id": "MR5TUMtkzs9y"
      },
      "execution_count": null,
      "outputs": []
    },
    {
      "cell_type": "code",
      "source": [
        "idades"
      ],
      "metadata": {
        "colab": {
          "base_uri": "https://localhost:8080/"
        },
        "id": "SXjrv95Rz8WA",
        "outputId": "f12dbd15-e083-46b2-f906-8b874f58472c"
      },
      "execution_count": null,
      "outputs": [
        {
          "output_type": "execute_result",
          "data": {
            "text/plain": [
              "[39, 27, 18, 15]"
            ]
          },
          "metadata": {},
          "execution_count": 10
        }
      ]
    },
    {
      "cell_type": "markdown",
      "source": [
        "removendo todos os valores da lista:"
      ],
      "metadata": {
        "id": "BnII5E2g0Z6C"
      }
    },
    {
      "cell_type": "code",
      "source": [
        "idades.clear()"
      ],
      "metadata": {
        "id": "_REgWm9m0GJS"
      },
      "execution_count": null,
      "outputs": []
    },
    {
      "cell_type": "code",
      "source": [
        "idades"
      ],
      "metadata": {
        "colab": {
          "base_uri": "https://localhost:8080/"
        },
        "id": "tcET9gU20rPh",
        "outputId": "c02d6771-0c01-484f-dbff-076af5994932"
      },
      "execution_count": null,
      "outputs": [
        {
          "output_type": "execute_result",
          "data": {
            "text/plain": [
              "[]"
            ]
          },
          "metadata": {},
          "execution_count": 12
        }
      ]
    },
    {
      "cell_type": "code",
      "source": [
        "#voltando com a lista para mais exemplos de funções\n",
        "idades = [39, 30, 27, 18, 15]"
      ],
      "metadata": {
        "id": "xkud3j5D0sSt"
      },
      "execution_count": null,
      "outputs": []
    },
    {
      "cell_type": "markdown",
      "source": [
        "verificar se há um determinado valor na lista:"
      ],
      "metadata": {
        "id": "eZI9xWEW1Myu"
      }
    },
    {
      "cell_type": "code",
      "source": [
        "28 in idades"
      ],
      "metadata": {
        "colab": {
          "base_uri": "https://localhost:8080/"
        },
        "id": "T2F0Phl71Qw8",
        "outputId": "bd44c65d-7b19-4d78-ef54-59efef7026ce"
      },
      "execution_count": null,
      "outputs": [
        {
          "output_type": "execute_result",
          "data": {
            "text/plain": [
              "False"
            ]
          },
          "metadata": {},
          "execution_count": 17
        }
      ]
    },
    {
      "cell_type": "code",
      "source": [
        "15 in idades"
      ],
      "metadata": {
        "colab": {
          "base_uri": "https://localhost:8080/"
        },
        "id": "OSARyNE31UCb",
        "outputId": "a6044413-ec00-4c61-e5dc-e189c209930c"
      },
      "execution_count": null,
      "outputs": [
        {
          "output_type": "execute_result",
          "data": {
            "text/plain": [
              "True"
            ]
          },
          "metadata": {},
          "execution_count": 18
        }
      ]
    },
    {
      "cell_type": "code",
      "source": [
        "if 15 in idades:\n",
        "  idades.remove(15)"
      ],
      "metadata": {
        "id": "pk2sV_Ty1j4I"
      },
      "execution_count": null,
      "outputs": []
    },
    {
      "cell_type": "markdown",
      "source": [
        "inserir um elemento numa posição desejada:\n",
        "obs: para inserir na primeira posição, usar posicao=0 e o resto da lista transladará."
      ],
      "metadata": {
        "id": "2l-EGOiW145F"
      }
    },
    {
      "cell_type": "code",
      "source": [
        "posicao = 0\n",
        "elemento = 20\n",
        "idades.insert(posicao, elemento)"
      ],
      "metadata": {
        "id": "5dnadLMx1z-i"
      },
      "execution_count": null,
      "outputs": []
    },
    {
      "cell_type": "code",
      "source": [
        "idades"
      ],
      "metadata": {
        "colab": {
          "base_uri": "https://localhost:8080/"
        },
        "id": "tnVItc7h2e4O",
        "outputId": "f4f80adc-e1e3-4896-b8e8-f94bd92f711a"
      },
      "execution_count": null,
      "outputs": [
        {
          "output_type": "execute_result",
          "data": {
            "text/plain": [
              "[20, 39, 30, 27, 18]"
            ]
          },
          "metadata": {},
          "execution_count": 21
        }
      ]
    },
    {
      "cell_type": "markdown",
      "source": [
        "inserir vários elementos no final de uma lista:"
      ],
      "metadata": {
        "id": "uGHaHTu53BDE"
      }
    },
    {
      "cell_type": "code",
      "source": [
        "idades.extend([27, 19])"
      ],
      "metadata": {
        "id": "I-A2lKmQ3IJy"
      },
      "execution_count": null,
      "outputs": []
    },
    {
      "cell_type": "markdown",
      "source": [
        "criar uma lista com as idades no ano que vem (usando *list comprehension*).\n",
        "\n",
        "Ou seja, somar mais um em todos os elemento."
      ],
      "metadata": {
        "id": "r9PJi92K3187"
      }
    },
    {
      "cell_type": "code",
      "source": [
        "idades_no_ano_que_vem = [(idade+1) for idade in idades]\n",
        "idades_no_ano_que_vem"
      ],
      "metadata": {
        "colab": {
          "base_uri": "https://localhost:8080/"
        },
        "id": "8X68lC1q3RNj",
        "outputId": "7d1e01fa-1884-42b3-fbbc-b68fa344992a"
      },
      "execution_count": null,
      "outputs": [
        {
          "output_type": "execute_result",
          "data": {
            "text/plain": [
              "[21, 40, 31, 28, 19, 28, 20]"
            ]
          },
          "metadata": {},
          "execution_count": 26
        }
      ]
    },
    {
      "cell_type": "markdown",
      "source": [
        "Filtrando elementos (usando *list comprehension*)"
      ],
      "metadata": {
        "id": "tfGFDkVv4VbW"
      }
    },
    {
      "cell_type": "code",
      "source": [
        "[(idade) for idade in idades if idade> 21]"
      ],
      "metadata": {
        "colab": {
          "base_uri": "https://localhost:8080/"
        },
        "id": "o2qUiaSG4FXu",
        "outputId": "1bbca402-678f-4557-d2cf-274ac07203b7"
      },
      "execution_count": null,
      "outputs": [
        {
          "output_type": "execute_result",
          "data": {
            "text/plain": [
              "[39, 30, 27, 27]"
            ]
          },
          "metadata": {},
          "execution_count": 28
        }
      ]
    },
    {
      "cell_type": "markdown",
      "source": [
        "**Atenção**:\n",
        "\n",
        "---\n",
        "\n",
        "\n",
        "\n",
        "Não é recomendável colocar uma lista como parâmetro default de uma função, e, sim,`None` e verificar se é `None`, mas isso também se estende para outros objetos que você pode usar como parâmetro de valor opcional, que é mutável. Portanto, é sempre bom ter esse cuidado, listas e objetos que são mutáveis.\n",
        "\n",
        "\n",
        "\n",
        "```\n",
        "def faz_processamento_de_visualizacao(lista = None):\n",
        "  if lista == None:\n",
        "     lista = list()\n",
        "    print(len(lista))\n",
        "    print(lista)\n",
        "    lista.append(13)\n",
        "\n",
        "```\n",
        "\n"
      ],
      "metadata": {
        "id": "Ik7GIH3_6tbk"
      }
    },
    {
      "cell_type": "markdown",
      "source": [
        "#Objetos Próprios:"
      ],
      "metadata": {
        "id": "Rc5WkLbe76Mv"
      }
    },
    {
      "cell_type": "code",
      "source": [
        "class ContaCorrente: #nome da classe \n",
        "#atributos\n",
        "# __init__ -> método construtor\n",
        "  def __init__(self, codigo) : \n",
        "    self.codigo = codigo\n",
        "    self.saldo = 0\n",
        "#métodos\n",
        "  def deposita(self, valor):\n",
        "    self.saldo += valor\n",
        "\n",
        "  def __str__(self):\n",
        "    return \"[>>código {} e saldo {}<<]\".format(self.codigo, self.saldo)\n"
      ],
      "metadata": {
        "id": "X6lVlZHo4evt"
      },
      "execution_count": null,
      "outputs": []
    },
    {
      "cell_type": "code",
      "source": [
        "conta_do_gui = ContaCorrente(15) #criando o objeto\n",
        "print(conta_do_gui)"
      ],
      "metadata": {
        "colab": {
          "base_uri": "https://localhost:8080/"
        },
        "id": "7AIzDmwK_xyr",
        "outputId": "ce18a004-4e52-4607-d49c-e519fb8044b5"
      },
      "execution_count": null,
      "outputs": [
        {
          "output_type": "stream",
          "name": "stdout",
          "text": [
            "[>>código 15 e saldo 0<<]\n"
          ]
        }
      ]
    },
    {
      "cell_type": "code",
      "source": [
        "conta_do_gui.deposita(500) #utilizando o método"
      ],
      "metadata": {
        "id": "LNxuvFbXATZZ"
      },
      "execution_count": null,
      "outputs": []
    },
    {
      "cell_type": "code",
      "source": [
        "print(conta_do_gui)"
      ],
      "metadata": {
        "colab": {
          "base_uri": "https://localhost:8080/"
        },
        "id": "YQmSNAipAl3A",
        "outputId": "2bd2751f-24d6-4461-ed07-d6f19693cfbd"
      },
      "execution_count": null,
      "outputs": [
        {
          "output_type": "stream",
          "name": "stdout",
          "text": [
            "[>>código 15 e saldo 500<<]\n"
          ]
        }
      ]
    },
    {
      "cell_type": "code",
      "source": [
        "conta_da_dani = ContaCorrente(47685)\n",
        "conta_da_dani.deposita(1000)\n",
        "print(conta_da_dani)"
      ],
      "metadata": {
        "colab": {
          "base_uri": "https://localhost:8080/"
        },
        "id": "yZqII_t0Ayos",
        "outputId": "6501fb51-c428-4560-904b-92f50ac759af"
      },
      "execution_count": null,
      "outputs": [
        {
          "output_type": "stream",
          "name": "stdout",
          "text": [
            "[>>código 47685 e saldo 1000<<]\n"
          ]
        }
      ]
    },
    {
      "cell_type": "code",
      "source": [
        "contas = [conta_do_gui, conta_da_dani]\n",
        "for conta in contas:\n",
        "  print(conta)"
      ],
      "metadata": {
        "colab": {
          "base_uri": "https://localhost:8080/"
        },
        "id": "Dz0kuRm2A0eu",
        "outputId": "f834c89c-2a01-44f3-e50c-7437e3bcc4a5"
      },
      "execution_count": null,
      "outputs": [
        {
          "output_type": "stream",
          "name": "stdout",
          "text": [
            "[>>código 15 e saldo 500<<]\n",
            "[>>código 47685 e saldo 1000<<]\n"
          ]
        }
      ]
    },
    {
      "cell_type": "markdown",
      "source": [
        "Definindo uma função que deposita em todas as contas"
      ],
      "metadata": {
        "id": "V20MAA65QZA8"
      }
    },
    {
      "cell_type": "code",
      "source": [
        "def deposita_para_todas(contas):\n",
        "  for conta in contas:\n",
        "      conta.deposita(100)"
      ],
      "metadata": {
        "id": "RvYUcLT6A4y3"
      },
      "execution_count": null,
      "outputs": []
    },
    {
      "cell_type": "code",
      "source": [
        "#usando a função\n",
        "deposita_para_todas(contas)\n",
        "print(contas[0], contas[1])"
      ],
      "metadata": {
        "colab": {
          "base_uri": "https://localhost:8080/"
        },
        "id": "4ubuBu-TQil-",
        "outputId": "74d800b4-a7fe-476d-dbc7-e378aeb0b41b"
      },
      "execution_count": null,
      "outputs": [
        {
          "output_type": "stream",
          "name": "stdout",
          "text": [
            "[>>código 15 e saldo 600<<] [>>código 47685 e saldo 1100<<]\n"
          ]
        }
      ]
    },
    {
      "cell_type": "markdown",
      "source": [
        "#Tupla\n",
        "\n",
        "- É imutável (não tem como modificar valores, remover ou adicionar);\n",
        "- Na tupla a posição é importante;\n",
        "- É interessante criar uma regra na utilização da tupla\n",
        "(exemplo: primeiro elemento é nome, segundo é a idade e o terceiro o ano de nascimento);\n"
      ],
      "metadata": {
        "id": "Ct_oHFHARv4o"
      }
    },
    {
      "cell_type": "code",
      "source": [
        "#definindo tuplas\n",
        "guilherme = ('Guilherme', 37, 1981)\n",
        "daniela = ('Daniela', 31, 1987)\n"
      ],
      "metadata": {
        "id": "2XLW37COQy9H"
      },
      "execution_count": null,
      "outputs": []
    },
    {
      "cell_type": "code",
      "source": [
        "#uma lista de tuplas\n",
        "usuarios = [guilherme,daniela]"
      ],
      "metadata": {
        "id": "A1TYsfaTRx4d"
      },
      "execution_count": null,
      "outputs": []
    },
    {
      "cell_type": "code",
      "source": [
        "usuarios"
      ],
      "metadata": {
        "colab": {
          "base_uri": "https://localhost:8080/"
        },
        "id": "YwHXUnflUDk6",
        "outputId": "b15783c8-df52-4631-e399-663b267a14e4"
      },
      "execution_count": null,
      "outputs": [
        {
          "output_type": "execute_result",
          "data": {
            "text/plain": [
              "[('Guilherme', 37, 1981), ('Daniela', 31, 1987)]"
            ]
          },
          "metadata": {},
          "execution_count": 48
        }
      ]
    },
    {
      "cell_type": "code",
      "source": [
        "#uma tupla de objetos\n",
        "contas = (conta_do_gui, conta_da_dani)"
      ],
      "metadata": {
        "id": "e-xwvtnEUFRt"
      },
      "execution_count": null,
      "outputs": []
    },
    {
      "cell_type": "markdown",
      "source": [
        "#Polimorfismo e arrays\n",
        "\n",
        "**Polimorfismo**, em Python, é a capacidade que uma subclasse tem de ter métodos com o mesmo nome de sua superclasse, e o programa saber qual método deve ser invocado, especificamente (da super ou sub). Ou seja, o objeto tem a capacidade de assumir diferentes formas (polimorfismo).\n",
        "\n",
        "* evite o uso do array padrão do python"
      ],
      "metadata": {
        "id": "i7VD76SnGVnW"
      }
    },
    {
      "cell_type": "code",
      "source": [
        "from abc import ABCMeta, abstractmethod\n",
        "#Se você tem um método que você quer definir na sua classe mãe e que todo mundo seja forçado a implementar,\n",
        "# coloque um @abstractmethod nela, defina ela como uma classe abstrata através da meta classe ABCmeta.\n",
        "\n",
        "#Então dessa maneira, forçamos para que o erro apareça na hora que você tem que instanciar,\n",
        "#que é muito mais cedo do que o momento que você tenta chamar o método,\n",
        "#porque você instancia em algum momento e os métodos só são chamados bem depois\n",
        "\n",
        "\n",
        "class Conta(metaclass=ABCMeta): #nome da classe \n",
        "#atributos\n",
        "  def __init__(self, codigo) : \n",
        "    self._codigo = codigo # o '_' significa PRIVADO\n",
        "    self._saldo = 0\n",
        "#métodos\n",
        "  def deposita(self, valor):\n",
        "    self._saldo += valor\n",
        "\n",
        "    @abstractmethod #decorador\n",
        "    def passa_o_mes(self):\n",
        "      pass # não há nada implementado\n",
        "\n",
        "  def __str__(self):\n",
        "    return \"[>>Codigo {} Saldo {}<<]\".format(self._codigo, self._saldo)"
      ],
      "metadata": {
        "id": "70EzyAQBUyi0"
      },
      "execution_count": null,
      "outputs": []
    },
    {
      "cell_type": "code",
      "source": [
        "class ContaCorrente(Conta):#nome da classe (HERANÇA)\n",
        "#Métodos:\n",
        "  def passa_o_mes(self):\n",
        "    self._saldo -= 2\n",
        "\n",
        "class ContaPoupanca(Conta): #nome da classe (HERANÇA)\n",
        "#Métodos:\n",
        "  def passa_o_mes(self):\n",
        "    self._saldo *= 1.01\n",
        "    self._saldo -= 3\n",
        "class ContaInvestimento(Conta): \n",
        "  pass # a conta investimento não tem o método 'passa_o_mes'"
      ],
      "metadata": {
        "id": "OFQi21qbHCgY"
      },
      "execution_count": null,
      "outputs": []
    },
    {
      "cell_type": "markdown",
      "source": [],
      "metadata": {
        "id": "0oP-8K1-Xp-R"
      }
    },
    {
      "cell_type": "code",
      "source": [
        "conta16 = ContaCorrente(16)\n",
        "conta16.deposita(1000)"
      ],
      "metadata": {
        "id": "BBpbYL0XH0mx"
      },
      "execution_count": null,
      "outputs": []
    },
    {
      "cell_type": "code",
      "source": [
        "print(conta16)"
      ],
      "metadata": {
        "colab": {
          "base_uri": "https://localhost:8080/"
        },
        "id": "tiTJDb2jH2bl",
        "outputId": "95b2a07b-a9db-494f-b014-81a06c184134"
      },
      "execution_count": null,
      "outputs": [
        {
          "output_type": "stream",
          "name": "stdout",
          "text": [
            "[>>Codigo 16 Saldo 1000<<]\n"
          ]
        }
      ]
    },
    {
      "cell_type": "code",
      "source": [
        "conta17 = ContaPoupanca(17)\n",
        "conta17.deposita(1000)"
      ],
      "metadata": {
        "id": "fez9GF3CI97E"
      },
      "execution_count": null,
      "outputs": []
    },
    {
      "cell_type": "code",
      "source": [
        "print(conta17)"
      ],
      "metadata": {
        "colab": {
          "base_uri": "https://localhost:8080/"
        },
        "id": "xYHj1Y9BJCob",
        "outputId": "292777e9-998c-4d6d-89e4-76d0af884d27"
      },
      "execution_count": null,
      "outputs": [
        {
          "output_type": "stream",
          "name": "stdout",
          "text": [
            "[>>Codigo 17 Saldo 1000<<]\n"
          ]
        }
      ]
    },
    {
      "cell_type": "code",
      "source": [
        "for conta in contas:\n",
        "  conta.passa_o_mes() #duck typing"
      ],
      "metadata": {
        "id": "sbRoiGkaJRii"
      },
      "execution_count": null,
      "outputs": []
    },
    {
      "cell_type": "markdown",
      "source": [
        "**Duck typing**: Em programação de computadores com linguagens de programação orientadas a objetos, duck typing é um estilo de tipagem em que os métodos e propriedades de um objeto determinam a semântica válida, em vez de sua herança de uma classe particular ou implementação de uma interface explicita."
      ],
      "metadata": {
        "id": "EReOT8MMJ-gx"
      }
    },
    {
      "cell_type": "markdown",
      "source": [
        "## Arrays"
      ],
      "metadata": {
        "id": "J5o63UTIK2rY"
      }
    },
    {
      "cell_type": "code",
      "source": [
        "#array\n",
        "#importando o pacote\n",
        "import array as arr\n",
        "#para baixar o pacote no dentro do jupyter ou google colab, usar exclamação\n",
        "#numpy\n",
        "#!pip install numpy\n",
        "import numpy as np"
      ],
      "metadata": {
        "id": "dJVKc2aoKG7H"
      },
      "execution_count": null,
      "outputs": []
    },
    {
      "cell_type": "code",
      "source": [
        "numeros = np.array([1, 3.5])"
      ],
      "metadata": {
        "id": "N3JYE89FLoUB"
      },
      "execution_count": null,
      "outputs": []
    },
    {
      "cell_type": "code",
      "source": [
        "numeros"
      ],
      "metadata": {
        "colab": {
          "base_uri": "https://localhost:8080/"
        },
        "id": "0nAGwaeqL7wD",
        "outputId": "5de5ba0a-bb71-446e-e7c9-258cca6318ea"
      },
      "execution_count": null,
      "outputs": [
        {
          "output_type": "execute_result",
          "data": {
            "text/plain": [
              "array([1. , 3.5])"
            ]
          },
          "metadata": {},
          "execution_count": 25
        }
      ]
    },
    {
      "cell_type": "markdown",
      "source": [
        "Igualdade e o `__eq__`"
      ],
      "metadata": {
        "id": "DjgcHijIXsXm"
      }
    },
    {
      "cell_type": "code",
      "source": [
        "# para o exemplo, essa classe 'contasalario' não herda de Conta\n",
        "class ContaSalario: \n",
        "\n",
        "  def __init__(self, codigo):\n",
        "      self._codigo = codigo\n",
        "      self._saldo = 0\n",
        "\n",
        "  def deposita(self, valor):\n",
        "      self._saldo += valor\n",
        "\n",
        "  def __str__(self):\n",
        "      return \"[>>Codigo {} Saldo {}<<]\".format(self._codigo, self._saldo)"
      ],
      "metadata": {
        "id": "2ep8ZQzsXz2K"
      },
      "execution_count": null,
      "outputs": []
    },
    {
      "cell_type": "code",
      "source": [
        "#criando um objeto\n",
        "conta1 =  ContaSalario(37)\n",
        "#crindo ouro objeto\n",
        "conta2 =  ContaSalario(37)\n",
        "# o código e o saldo é o mesmo para os dois objetos"
      ],
      "metadata": {
        "id": "BCKIck9LaZcS"
      },
      "execution_count": null,
      "outputs": []
    },
    {
      "cell_type": "code",
      "source": [
        "conta1 == conta2"
      ],
      "metadata": {
        "colab": {
          "base_uri": "https://localhost:8080/"
        },
        "id": "PPJLQ8nOa0-B",
        "outputId": "59ada601-51d5-4711-c018-b670300e05f9"
      },
      "execution_count": null,
      "outputs": [
        {
          "output_type": "execute_result",
          "data": {
            "text/plain": [
              "False"
            ]
          },
          "metadata": {},
          "execution_count": 39
        }
      ]
    },
    {
      "cell_type": "code",
      "source": [
        "# é falso pois são objetos diferentes"
      ],
      "metadata": {
        "id": "-zqLdMskbBFW"
      },
      "execution_count": null,
      "outputs": []
    },
    {
      "cell_type": "markdown",
      "source": [
        "No python, podemos definir uma condição de igualdade específica para a classe.\n",
        "\n",
        "Então, reescrevendo a classe ContaSalario:\n",
        "\n",
        "obs: é interessante reinstanciar os objetos depois de fazer alterações na classe criadora."
      ],
      "metadata": {
        "id": "j14Qts1AbYo5"
      }
    },
    {
      "cell_type": "code",
      "source": [
        "class ContaSalario: \n",
        "\n",
        "  def __init__(self, codigo):\n",
        "      self._codigo = codigo\n",
        "      self._saldo = 0\n",
        "#verificação de igualdade\n",
        "  def __eq__(self, outro):\n",
        "    if type(outro) != ContaSalario: #se é do tipo contasalário ou de tipos que herdam contasalario\n",
        "    #um objeto do tipo 'filho' também é do tipo 'pai'.\n",
        "      return False\n",
        "    return self._codigo == outro._codigo and self._saldo == outro._saldo\n",
        "\n",
        "\n",
        "  def deposita(self, valor):\n",
        "    self._saldo += valor\n",
        "\n",
        "  def __str__(self):\n",
        "      return \"[>>Codigo {} Saldo {}<<]\".format(self._codigo, self._saldo)\n",
        "\n",
        "#uma classe filha de ContaSalario\n",
        "class ContaMultiploSalario(ContaSalario):\n",
        "  pass"
      ],
      "metadata": {
        "id": "Ep8quP7Lbd6t"
      },
      "execution_count": null,
      "outputs": []
    },
    {
      "cell_type": "code",
      "source": [
        "#criando um objeto\n",
        "conta1 =  ContaSalario(37)\n",
        "#crindo ouro objeto\n",
        "conta2 =  ContaSalario(37)\n",
        "# o código e o saldo é o mesmo para os dois objetos"
      ],
      "metadata": {
        "id": "WY-7-KPBbr6M"
      },
      "execution_count": null,
      "outputs": []
    },
    {
      "cell_type": "code",
      "source": [
        "conta1 == conta2"
      ],
      "metadata": {
        "colab": {
          "base_uri": "https://localhost:8080/"
        },
        "id": "F0oGYzEfsfJD",
        "outputId": "a130f0cd-5a6f-4882-e708-663e13f692bd"
      },
      "execution_count": null,
      "outputs": [
        {
          "output_type": "execute_result",
          "data": {
            "text/plain": [
              "True"
            ]
          },
          "metadata": {},
          "execution_count": 55
        }
      ]
    },
    {
      "cell_type": "code",
      "source": [
        "isinstance(ContaCorrente(34), ContaCorrente)"
      ],
      "metadata": {
        "colab": {
          "base_uri": "https://localhost:8080/"
        },
        "id": "eXMWX98zshtx",
        "outputId": "32f7d819-7ddc-4e23-cd1b-a2acf72077d9"
      },
      "execution_count": null,
      "outputs": [
        {
          "output_type": "execute_result",
          "data": {
            "text/plain": [
              "True"
            ]
          },
          "metadata": {},
          "execution_count": 57
        }
      ]
    },
    {
      "cell_type": "code",
      "source": [
        "isinstance(ContaCorrente(34), Conta) #ContaCorrente herda Conta"
      ],
      "metadata": {
        "colab": {
          "base_uri": "https://localhost:8080/"
        },
        "id": "HILFLkGfuAME",
        "outputId": "701ecbb2-7a31-40fb-8cdb-64d3618c514f"
      },
      "execution_count": null,
      "outputs": [
        {
          "output_type": "execute_result",
          "data": {
            "text/plain": [
              "True"
            ]
          },
          "metadata": {},
          "execution_count": 59
        }
      ]
    },
    {
      "cell_type": "markdown",
      "source": [
        "# Builtins como enumerated, range e desempacotamento automatico de tuplas\n",
        "\n",
        "https://docs.python.org/3/library/functions.html"
      ],
      "metadata": {
        "id": "L_GfFi3Xuuf1"
      }
    },
    {
      "cell_type": "code",
      "source": [
        "#exemplo:\n",
        "idades = [15, 87, 65, 56, 32, 49, 37]"
      ],
      "metadata": {
        "id": "iPtyfVOjuGTD"
      },
      "execution_count": null,
      "outputs": []
    },
    {
      "cell_type": "code",
      "source": [
        "enumerate(idades)# retorna um objeto do tipo enumerate"
      ],
      "metadata": {
        "colab": {
          "base_uri": "https://localhost:8080/"
        },
        "id": "-w4Zq02cxQJT",
        "outputId": "3eac2082-74f1-42f1-cd68-adcfaee89930"
      },
      "execution_count": null,
      "outputs": [
        {
          "output_type": "execute_result",
          "data": {
            "text/plain": [
              "<enumerate at 0x7f1548e10c80>"
            ]
          },
          "metadata": {},
          "execution_count": 61
        }
      ]
    },
    {
      "cell_type": "markdown",
      "source": [
        "Assim como range() o enumarate é \"*lazy*. Ele é criado a medida que é usado.\n",
        "\n",
        "Assim não sobrecarrega a memória."
      ],
      "metadata": {
        "id": "r1TODRL3xqbA"
      }
    },
    {
      "cell_type": "code",
      "source": [
        "#forçando a geração dos valores\n",
        "list(range(len(idades))) "
      ],
      "metadata": {
        "colab": {
          "base_uri": "https://localhost:8080/"
        },
        "id": "FksbbZBvxl0k",
        "outputId": "b7134732-48dc-494e-d54c-51ea5c972639"
      },
      "execution_count": null,
      "outputs": [
        {
          "output_type": "execute_result",
          "data": {
            "text/plain": [
              "[0, 1, 2, 3, 4, 5, 6]"
            ]
          },
          "metadata": {},
          "execution_count": 67
        }
      ]
    },
    {
      "cell_type": "code",
      "source": [
        "list(enumerate(idades))"
      ],
      "metadata": {
        "colab": {
          "base_uri": "https://localhost:8080/"
        },
        "id": "5iSMQstYyMP1",
        "outputId": "7b8827eb-1a3f-403b-cd3a-896d8c231923"
      },
      "execution_count": null,
      "outputs": [
        {
          "output_type": "execute_result",
          "data": {
            "text/plain": [
              "[(0, 15), (1, 87), (2, 65), (3, 56), (4, 32), (5, 49), (6, 37)]"
            ]
          },
          "metadata": {},
          "execution_count": 68
        }
      ]
    },
    {
      "cell_type": "code",
      "source": [
        "for valor in enumerate(idades):\n",
        "  print(valor)"
      ],
      "metadata": {
        "colab": {
          "base_uri": "https://localhost:8080/"
        },
        "id": "t8-WJ-m6yYBk",
        "outputId": "34415c77-83e8-4d13-9cc8-5d0ae9d67402"
      },
      "execution_count": null,
      "outputs": [
        {
          "output_type": "stream",
          "name": "stdout",
          "text": [
            "(0, 15)\n",
            "(1, 87)\n",
            "(2, 65)\n",
            "(3, 56)\n",
            "(4, 32)\n",
            "(5, 49)\n",
            "(6, 37)\n"
          ]
        }
      ]
    },
    {
      "cell_type": "code",
      "source": [],
      "metadata": {
        "id": "GWqHmeYqyyF6"
      },
      "execution_count": null,
      "outputs": []
    },
    {
      "cell_type": "markdown",
      "source": [
        "##Desempacotando as tuplas"
      ],
      "metadata": {
        "id": "5lHAxRkEy2MV"
      }
    },
    {
      "cell_type": "code",
      "source": [
        "for indice, idade in enumerate(idades):\n",
        "  print(indice,\"->\", idade)"
      ],
      "metadata": {
        "colab": {
          "base_uri": "https://localhost:8080/"
        },
        "id": "SD5_iob3y5lk",
        "outputId": "e9dd9f1c-19a7-48b0-8193-c112692be5b2"
      },
      "execution_count": null,
      "outputs": [
        {
          "output_type": "stream",
          "name": "stdout",
          "text": [
            "0 -> 15\n",
            "1 -> 87\n",
            "2 -> 65\n",
            "3 -> 56\n",
            "4 -> 32\n",
            "5 -> 49\n",
            "6 -> 37\n"
          ]
        }
      ]
    },
    {
      "cell_type": "code",
      "source": [
        "#exemplo\n",
        "usuarios = [\n",
        "    (\"Guilherme\", 37, 1981),\n",
        "    (\"Daniela\", 31, 1987),\n",
        "    (\"Paulo\", 39, 1979)\n",
        "]"
      ],
      "metadata": {
        "id": "PJedJRwfzKPT"
      },
      "execution_count": null,
      "outputs": []
    },
    {
      "cell_type": "code",
      "source": [
        "for nome, idade, nascimento in usuarios: # ja desempacotando\n",
        "  print(nome)"
      ],
      "metadata": {
        "colab": {
          "base_uri": "https://localhost:8080/"
        },
        "id": "_jG6wmUCy7uB",
        "outputId": "87b2c111-cef7-4e2b-b273-61eb4f4fe9e1"
      },
      "execution_count": null,
      "outputs": [
        {
          "output_type": "stream",
          "name": "stdout",
          "text": [
            "Guilherme\n",
            "Daniela\n",
            "Paulo\n"
          ]
        }
      ]
    },
    {
      "cell_type": "code",
      "source": [
        "for nome, _, _ in usuarios: # ja desempacotando, ignorando o resto\n",
        "  print(nome)"
      ],
      "metadata": {
        "colab": {
          "base_uri": "https://localhost:8080/"
        },
        "id": "9wSk8U_7zFRD",
        "outputId": "29ec7d36-4bee-4bdd-eeff-ddb331663575"
      },
      "execution_count": null,
      "outputs": [
        {
          "output_type": "stream",
          "name": "stdout",
          "text": [
            "Guilherme\n",
            "Daniela\n",
            "Paulo\n"
          ]
        }
      ]
    },
    {
      "cell_type": "markdown",
      "source": [
        "##Ordenação básica\n",
        "\n",
        "https://docs.python.org/3/tutorial/datastructures.html"
      ],
      "metadata": {
        "id": "Rgt2z4hY1QjT"
      }
    },
    {
      "cell_type": "code",
      "source": [
        "idades"
      ],
      "metadata": {
        "colab": {
          "base_uri": "https://localhost:8080/"
        },
        "id": "PsPHWN5DzT5M",
        "outputId": "966ab9d9-b57e-488e-87e4-8bbe09634039"
      },
      "execution_count": null,
      "outputs": [
        {
          "output_type": "execute_result",
          "data": {
            "text/plain": [
              "[15, 87, 65, 56, 32, 49, 37]"
            ]
          },
          "metadata": {},
          "execution_count": 79
        }
      ]
    },
    {
      "cell_type": "code",
      "source": [
        "sorted(idades)"
      ],
      "metadata": {
        "colab": {
          "base_uri": "https://localhost:8080/"
        },
        "id": "cRG_VM5X1U0P",
        "outputId": "3ab23206-d24a-40ba-d5db-beb18071bac8"
      },
      "execution_count": null,
      "outputs": [
        {
          "output_type": "execute_result",
          "data": {
            "text/plain": [
              "[15, 32, 37, 49, 56, 65, 87]"
            ]
          },
          "metadata": {},
          "execution_count": 80
        }
      ]
    },
    {
      "cell_type": "code",
      "source": [
        "list(reversed(idades))"
      ],
      "metadata": {
        "colab": {
          "base_uri": "https://localhost:8080/"
        },
        "id": "1tcOhPcM1WgZ",
        "outputId": "ef34e2fa-574c-4836-f303-d26a2a88d1e6"
      },
      "execution_count": null,
      "outputs": [
        {
          "output_type": "execute_result",
          "data": {
            "text/plain": [
              "[37, 49, 32, 56, 65, 87, 15]"
            ]
          },
          "metadata": {},
          "execution_count": 81
        }
      ]
    },
    {
      "cell_type": "code",
      "source": [
        "sorted(idades, reverse = True)"
      ],
      "metadata": {
        "colab": {
          "base_uri": "https://localhost:8080/"
        },
        "id": "nTB6hvOi1fpB",
        "outputId": "49e2fcdd-f2f6-4c8f-bf03-a62b8bf73f17"
      },
      "execution_count": null,
      "outputs": [
        {
          "output_type": "execute_result",
          "data": {
            "text/plain": [
              "[87, 65, 56, 49, 37, 32, 15]"
            ]
          },
          "metadata": {},
          "execution_count": 82
        }
      ]
    },
    {
      "cell_type": "code",
      "source": [
        "list(reversed(sorted(idades)))"
      ],
      "metadata": {
        "colab": {
          "base_uri": "https://localhost:8080/"
        },
        "id": "5DX41upU1ntj",
        "outputId": "a25fe77a-f71d-4729-c3e5-442697a0acd1"
      },
      "execution_count": null,
      "outputs": [
        {
          "output_type": "execute_result",
          "data": {
            "text/plain": [
              "[87, 65, 56, 49, 37, 32, 15]"
            ]
          },
          "metadata": {},
          "execution_count": 83
        }
      ]
    },
    {
      "cell_type": "code",
      "source": [
        "idades.sort() #sobrescreve a lista"
      ],
      "metadata": {
        "id": "1af6i_FR1yVE"
      },
      "execution_count": null,
      "outputs": []
    },
    {
      "cell_type": "code",
      "source": [
        "idades"
      ],
      "metadata": {
        "colab": {
          "base_uri": "https://localhost:8080/"
        },
        "id": "4jg_18rk2Ero",
        "outputId": "f591d7a8-71fb-4ac3-ccc2-733c941a4112"
      },
      "execution_count": null,
      "outputs": [
        {
          "output_type": "execute_result",
          "data": {
            "text/plain": [
              "[15, 32, 37, 49, 56, 65, 87]"
            ]
          },
          "metadata": {},
          "execution_count": 85
        }
      ]
    },
    {
      "cell_type": "markdown",
      "source": [
        "## Ordenação de objetos sem ordem natural"
      ],
      "metadata": {
        "id": "XFxpvLA18q9b"
      }
    },
    {
      "cell_type": "code",
      "source": [
        "# Copiando o código da conta salário\n",
        "class ContaSalario: # nome da classe\n",
        "# definindo os atributos da classe\n",
        "  def __init__(self, codigo):\n",
        "      self._codigo = codigo\n",
        "      self._saldo = 0\n",
        "\n",
        "#metodos da classe:\n",
        "#método de  verificação de igualdade\n",
        "  def __eq__(self, outro):\n",
        "    if type(outro) != ContaSalario: #se é do tipo contasalário ou de tipos que herdam contasalario\n",
        "    #um objeto do tipo 'filho' também é do tipo 'pai'.\n",
        "      return False\n",
        "    return self._codigo == outro._codigo and self._saldo == outro._saldo\n",
        "\n",
        "# método que adicionaum valor no saldo de um objeto da classe\n",
        "  def deposita(self, valor):\n",
        "    self._saldo += valor\n",
        "\n",
        "# método para imprimir informações da claase\n",
        "  def __str__(self):\n",
        "      return \"[>>Codigo {} Saldo {}<<]\".format(self._codigo, self._saldo)"
      ],
      "metadata": {
        "id": "75c2MsWG2Fpq"
      },
      "execution_count": null,
      "outputs": []
    },
    {
      "cell_type": "code",
      "source": [
        "#criando objetos da classe ContaSalario\n",
        "conta_do_guilherme = ContaSalario(17)\n",
        "conta_do_guilherme.deposita(500)\n",
        "\n",
        "conta_da_daniela = ContaSalario(3)\n",
        "conta_da_daniela.deposita(1000)\n",
        "\n",
        "conta_do_paulo = ContaSalario(133)\n",
        "conta_do_paulo.deposita(510)"
      ],
      "metadata": {
        "id": "EGyqI7zv-UvP"
      },
      "execution_count": null,
      "outputs": []
    },
    {
      "cell_type": "code",
      "source": [
        "contas = [conta_do_guilherme, conta_da_daniela,conta_do_paulo]"
      ],
      "metadata": {
        "id": "Bsl6_sGm-gr-"
      },
      "execution_count": null,
      "outputs": []
    },
    {
      "cell_type": "code",
      "source": [
        "#Para ordenar os saldos, podemos criar uma função que pega os valores dos saldos de cada objeto para compará-los\n",
        "def extrai_saldo(conta):\n",
        "  return conta._saldo #acessando um atribudo privado (não é indicado!)\n",
        "\n",
        "for conta in sorted(contas, key=extrai_saldo):\n",
        "  print(conta)"
      ],
      "metadata": {
        "colab": {
          "base_uri": "https://localhost:8080/"
        },
        "id": "0a5eX-rA_gOv",
        "outputId": "68dd1231-0d41-4377-e2d0-113d89d28856"
      },
      "execution_count": null,
      "outputs": [
        {
          "output_type": "stream",
          "name": "stdout",
          "text": [
            "[>>Codigo 17 Saldo 500<<]\n",
            "[>>Codigo 133 Saldo 510<<]\n",
            "[>>Codigo 3 Saldo 1000<<]\n"
          ]
        }
      ]
    },
    {
      "cell_type": "markdown",
      "source": [
        "  Um outro modo, é usando operator:\n",
        "  https://docs.python.org/pt-br/3/library/operator.html"
      ],
      "metadata": {
        "id": "u8ta_HdZA49P"
      }
    },
    {
      "cell_type": "code",
      "source": [
        "from operator import attrgetter\n",
        "\n",
        "for conta in sorted(contas, key=attrgetter(\"_saldo\")):\n",
        "  print(conta)\n",
        "\n",
        "# Porém ainda é necessário acessar um atributo privado (o que pode ser um problema)"
      ],
      "metadata": {
        "colab": {
          "base_uri": "https://localhost:8080/"
        },
        "id": "I-9Dchmg_4BL",
        "outputId": "a55b356c-74d2-49a1-b485-d6ba849d512c"
      },
      "execution_count": null,
      "outputs": [
        {
          "output_type": "stream",
          "name": "stdout",
          "text": [
            "[>>Codigo 17 Saldo 500<<]\n",
            "[>>Codigo 133 Saldo 510<<]\n",
            "[>>Codigo 3 Saldo 1000<<]\n"
          ]
        }
      ]
    },
    {
      "cell_type": "markdown",
      "source": [
        "para resolver esse problema, podemos explicitar na classe como ela pode ser comparada."
      ],
      "metadata": {
        "id": "2Olx7AmVBqxh"
      }
    },
    {
      "cell_type": "code",
      "source": [
        "# Copiando o código da conta salário\n",
        "class ContaSalario: # nome da classe\n",
        "# definindo os atributos da classe\n",
        "  def __init__(self, codigo):\n",
        "      self._codigo = codigo\n",
        "      self._saldo = 0\n",
        "\n",
        "#metodos da classe:\n",
        "#método de  verificação de igualdade\n",
        "  def __eq__(self, outro):\n",
        "    if type(outro) != ContaSalario: #se é do tipo contasalário ou de tipos que herdam contasalario\n",
        "    #um objeto do tipo 'filho' também é do tipo 'pai'.\n",
        "      return False\n",
        "    return self._codigo == outro._codigo and self._saldo == outro._saldo\n",
        "# método de comparação 'less than' (menor que)\n",
        "  def __lt__(self, outro):\n",
        "    return self._saldo < outro._saldo\n",
        "\n",
        "# método que adicionaum valor no saldo de um objeto da classe\n",
        "  def deposita(self, valor):\n",
        "    self._saldo += valor\n",
        "\n",
        "# método para imprimir informações da claase\n",
        "  def __str__(self):\n",
        "      return \"[>>Codigo {} Saldo {}<<]\".format(self._codigo, self._saldo)"
      ],
      "metadata": {
        "id": "7Ysx_teeBJOR"
      },
      "execution_count": null,
      "outputs": []
    },
    {
      "cell_type": "code",
      "source": [
        "#criando objetos da classe ContaSalario depois da modificação da classe\n",
        "conta_do_guilherme = ContaSalario(17)\n",
        "conta_do_guilherme.deposita(500)\n",
        "\n",
        "conta_da_daniela = ContaSalario(3)\n",
        "conta_da_daniela.deposita(1000)\n",
        "\n",
        "conta_do_paulo = ContaSalario(133)\n",
        "conta_do_paulo.deposita(510)"
      ],
      "metadata": {
        "id": "wKhaW-lSBzp6"
      },
      "execution_count": null,
      "outputs": []
    },
    {
      "cell_type": "code",
      "source": [
        "#comparando contas\n",
        "conta_do_guilherme < conta_da_daniela"
      ],
      "metadata": {
        "colab": {
          "base_uri": "https://localhost:8080/"
        },
        "id": "kHOV_P3WCzXA",
        "outputId": "2b9b23a8-ebf3-4863-e01e-72f9273ea36e"
      },
      "execution_count": null,
      "outputs": [
        {
          "output_type": "execute_result",
          "data": {
            "text/plain": [
              "True"
            ]
          },
          "metadata": {},
          "execution_count": 13
        }
      ]
    },
    {
      "cell_type": "code",
      "source": [
        "conta_do_guilherme > conta_da_daniela"
      ],
      "metadata": {
        "colab": {
          "base_uri": "https://localhost:8080/"
        },
        "id": "MRbRpRtEC26V",
        "outputId": "c21f952f-7f29-4873-f88a-9c4ff605fa5a"
      },
      "execution_count": null,
      "outputs": [
        {
          "output_type": "execute_result",
          "data": {
            "text/plain": [
              "False"
            ]
          },
          "metadata": {},
          "execution_count": 14
        }
      ]
    },
    {
      "cell_type": "code",
      "source": [
        "contas = [conta_do_guilherme, conta_da_daniela,conta_do_paulo]"
      ],
      "metadata": {
        "id": "iZZF0FflDQZL"
      },
      "execution_count": null,
      "outputs": []
    },
    {
      "cell_type": "code",
      "source": [
        "for conta in sorted(contas):\n",
        "  print(conta)"
      ],
      "metadata": {
        "colab": {
          "base_uri": "https://localhost:8080/"
        },
        "id": "8AWUOzSiDGAD",
        "outputId": "966b88fe-041f-4772-801d-d203ff1a4ee5"
      },
      "execution_count": null,
      "outputs": [
        {
          "output_type": "stream",
          "name": "stdout",
          "text": [
            "[>>Codigo 17 Saldo 500<<]\n",
            "[>>Codigo 133 Saldo 510<<]\n",
            "[>>Codigo 3 Saldo 1000<<]\n"
          ]
        }
      ]
    },
    {
      "cell_type": "markdown",
      "source": [
        "## Ordenação completa e functools"
      ],
      "metadata": {
        "id": "_UiLCK0uDxBw"
      }
    },
    {
      "cell_type": "code",
      "source": [
        "# e se tivesse duas contas com saldo igual\n",
        "conta_do_guilherme = ContaSalario(17)\n",
        "conta_do_guilherme.deposita(500)\n",
        "\n",
        "conta_da_daniela = ContaSalario(3)\n",
        "conta_da_daniela.deposita(1000)\n",
        "\n",
        "conta_do_paulo = ContaSalario(133)\n",
        "conta_do_paulo.deposita(500)\n",
        "\n",
        "contas = [conta_do_guilherme, conta_da_daniela, conta_do_paulo]\n"
      ],
      "metadata": {
        "id": "N3o49TrCDJ5X"
      },
      "execution_count": null,
      "outputs": []
    },
    {
      "cell_type": "code",
      "source": [
        "#utilizando o attrgetter\n",
        "for conta in sorted(contas, key=attrgetter(\"_saldo\", \"_codigo\")): #codigo é o critério de desempate\n",
        "  print(conta)"
      ],
      "metadata": {
        "colab": {
          "base_uri": "https://localhost:8080/"
        },
        "id": "OuqZHJISJog5",
        "outputId": "a5d727fe-be8c-480c-d033-ad8e0b2d7827"
      },
      "execution_count": null,
      "outputs": [
        {
          "output_type": "stream",
          "name": "stdout",
          "text": [
            "[>>Codigo 17 Saldo 500<<]\n",
            "[>>Codigo 133 Saldo 500<<]\n",
            "[>>Codigo 3 Saldo 1000<<]\n"
          ]
        }
      ]
    },
    {
      "cell_type": "code",
      "source": [
        "# inserir esse critério na própria classe\n",
        "# Copiando o código da conta salário\n",
        "class ContaSalario: # nome da classe\n",
        "# definindo os atributos da classe\n",
        "  def __init__(self, codigo):\n",
        "      self._codigo = codigo\n",
        "      self._saldo = 0\n",
        "\n",
        "#metodos da classe:\n",
        "#método de  verificação de igualdade\n",
        "  def __eq__(self, outro):\n",
        "    if type(outro) != ContaSalario: #se é do tipo contasalário ou de tipos que herdam contasalario\n",
        "    #um objeto do tipo 'filho' também é do tipo 'pai'.\n",
        "      return False\n",
        "    return self._codigo == outro._codigo and self._saldo == outro._saldo\n",
        "# método de comparação 'less than' (menor que)\n",
        "  def __lt__(self, outro):\n",
        "    #primeiro precisamos saber se o saldo é diferente\n",
        "    if self._saldo != outro._saldo:\n",
        "      return self._saldo < outro._saldo\n",
        "    return self._codigo < outro._codigo\n",
        "\n",
        "# método que adicionaum valor no saldo de um objeto da classe\n",
        "  def deposita(self, valor):\n",
        "    self._saldo += valor\n",
        "\n",
        "# método para imprimir informações da claase\n",
        "  def __str__(self):\n",
        "      return \"[>>Codigo {} Saldo {}<<]\".format(self._codigo, self._saldo)\n"
      ],
      "metadata": {
        "id": "gMllamrMJ3v1"
      },
      "execution_count": null,
      "outputs": []
    },
    {
      "cell_type": "code",
      "source": [
        "# e se tivesse todas as contas com saldo igual\n",
        "conta_do_guilherme = ContaSalario(17)\n",
        "conta_do_guilherme.deposita(500)\n",
        "\n",
        "conta_da_daniela = ContaSalario(3)\n",
        "conta_da_daniela.deposita(500)\n",
        "\n",
        "conta_do_paulo = ContaSalario(133)\n",
        "conta_do_paulo.deposita(500)\n",
        "\n",
        "contas = [conta_do_guilherme, conta_da_daniela, conta_do_paulo]\n"
      ],
      "metadata": {
        "id": "dkr1FdHBLXD5"
      },
      "execution_count": null,
      "outputs": []
    },
    {
      "cell_type": "code",
      "source": [
        "for conta in sorted(contas):\n",
        "  print(conta)"
      ],
      "metadata": {
        "colab": {
          "base_uri": "https://localhost:8080/"
        },
        "id": "iFRcJNW_LfRD",
        "outputId": "e8e52f16-c12d-46c3-931f-eb5b1d0b0d6f"
      },
      "execution_count": null,
      "outputs": [
        {
          "output_type": "stream",
          "name": "stdout",
          "text": [
            "[>>Codigo 3 Saldo 500<<]\n",
            "[>>Codigo 17 Saldo 500<<]\n",
            "[>>Codigo 133 Saldo 500<<]\n"
          ]
        }
      ]
    },
    {
      "cell_type": "markdown",
      "source": [
        "## Implementação do menor ou igual\n",
        "\n",
        "https://python.readthedocs.io/en/v2.7.2/library/functools.html"
      ],
      "metadata": {
        "id": "gPhw2celMDYo"
      }
    },
    {
      "cell_type": "code",
      "source": [
        "from functools import total_ordering"
      ],
      "metadata": {
        "id": "svG0MhcxLtfw"
      },
      "execution_count": null,
      "outputs": []
    },
    {
      "cell_type": "code",
      "source": [
        "# utiliando o functools\n",
        "\n",
        "# inserir esse critério na própria classe\n",
        "# Copiando o código da conta salário\n",
        "\n",
        "@total_ordering\n",
        "# se definido o __eq__ e mais um outro método de comparação, esse decorator irá generalizar as regras\n",
        "class ContaSalario: # nome da classe\n",
        "# definindo os atributos da classe\n",
        "  def __init__(self, codigo):\n",
        "      self._codigo = codigo\n",
        "      self._saldo = 0\n",
        "\n",
        "#metodos da classe:\n",
        "#método de  verificação de igualdade\n",
        "  def __eq__(self, outro):\n",
        "    if type(outro) != ContaSalario: #se é do tipo contasalário ou de tipos que herdam contasalario\n",
        "    #um objeto do tipo 'filho' também é do tipo 'pai'.\n",
        "      return False\n",
        "    return self._codigo == outro._codigo and self._saldo == outro._saldo\n",
        "# método de comparação 'less than' (menor que)\n",
        "  def __lt__(self, outro):\n",
        "    #primeiro precisamos saber se o saldo é diferente\n",
        "    if self._saldo != outro._saldo:\n",
        "      return self._saldo < outro._saldo\n",
        "    return self._codigo < outro._codigo\n",
        "\n",
        "# método que adicionaum valor no saldo de um objeto da classe\n",
        "  def deposita(self, valor):\n",
        "    self._saldo += valor\n",
        "\n",
        "# método para imprimir informações da claase\n",
        "  def __str__(self):\n",
        "      return \"[>>Codigo {} Saldo {}<<]\".format(self._codigo, self._saldo)"
      ],
      "metadata": {
        "id": "93FwXgx-MdyU"
      },
      "execution_count": null,
      "outputs": []
    },
    {
      "cell_type": "code",
      "source": [
        "# declarando os objetos novamente pois a construção da classe foi alterada\n",
        "conta_do_guilherme = ContaSalario(17)\n",
        "conta_do_guilherme.deposita(500)\n",
        "\n",
        "conta_da_daniela = ContaSalario(3)\n",
        "conta_da_daniela.deposita(520)\n",
        "\n",
        "conta_do_paulo = ContaSalario(133)\n",
        "conta_do_paulo.deposita(1500)\n",
        "\n",
        "contas = [conta_do_guilherme, conta_da_daniela, conta_do_paulo]"
      ],
      "metadata": {
        "id": "-bDa9565NE0_"
      },
      "execution_count": null,
      "outputs": []
    },
    {
      "cell_type": "code",
      "source": [
        "conta_do_guilherme == conta_do_guilherme"
      ],
      "metadata": {
        "colab": {
          "base_uri": "https://localhost:8080/"
        },
        "id": "QPSm9mTzM9Qx",
        "outputId": "c61ffb3a-4c9c-4dd3-864e-07dbda729f59"
      },
      "execution_count": null,
      "outputs": [
        {
          "output_type": "execute_result",
          "data": {
            "text/plain": [
              "True"
            ]
          },
          "metadata": {},
          "execution_count": 32
        }
      ]
    },
    {
      "cell_type": "code",
      "source": [
        "conta_do_guilherme >= conta_do_guilherme"
      ],
      "metadata": {
        "id": "elPbchjkNrrR",
        "outputId": "f51089b9-7adc-4839-88a9-235602c688d6",
        "colab": {
          "base_uri": "https://localhost:8080/"
        }
      },
      "execution_count": null,
      "outputs": [
        {
          "output_type": "execute_result",
          "data": {
            "text/plain": [
              "True"
            ]
          },
          "metadata": {},
          "execution_count": 38
        }
      ]
    },
    {
      "cell_type": "code",
      "source": [
        "conta_do_guilherme == conta_do_paulo"
      ],
      "metadata": {
        "colab": {
          "base_uri": "https://localhost:8080/"
        },
        "id": "3_O61VtYNPO4",
        "outputId": "03d80571-3889-4c6d-8738-f8ec89dba74c"
      },
      "execution_count": null,
      "outputs": [
        {
          "output_type": "execute_result",
          "data": {
            "text/plain": [
              "False"
            ]
          },
          "metadata": {},
          "execution_count": 33
        }
      ]
    },
    {
      "cell_type": "code",
      "source": [
        "conta_do_guilherme >  conta_do_paulo"
      ],
      "metadata": {
        "colab": {
          "base_uri": "https://localhost:8080/"
        },
        "id": "caayfp1vNelv",
        "outputId": "8b7c2e6f-7b59-402d-d838-203423de9c8a"
      },
      "execution_count": null,
      "outputs": [
        {
          "output_type": "execute_result",
          "data": {
            "text/plain": [
              "False"
            ]
          },
          "metadata": {},
          "execution_count": 35
        }
      ]
    },
    {
      "cell_type": "code",
      "source": [
        "conta_do_guilherme <=  conta_do_paulo"
      ],
      "metadata": {
        "colab": {
          "base_uri": "https://localhost:8080/"
        },
        "id": "zjN8xSQZNg-v",
        "outputId": "5de7bec1-b531-40bf-df3d-730bb6d7264b"
      },
      "execution_count": null,
      "outputs": [
        {
          "output_type": "execute_result",
          "data": {
            "text/plain": [
              "True"
            ]
          },
          "metadata": {},
          "execution_count": 36
        }
      ]
    },
    {
      "cell_type": "code",
      "source": [
        "conta_do_guilherme >= conta_da_daniela"
      ],
      "metadata": {
        "colab": {
          "base_uri": "https://localhost:8080/"
        },
        "id": "_1jMX5JRNPRa",
        "outputId": "481629c0-3b16-4e53-82db-088fe86e9300"
      },
      "execution_count": null,
      "outputs": [
        {
          "output_type": "execute_result",
          "data": {
            "text/plain": [
              "False"
            ]
          },
          "metadata": {},
          "execution_count": 37
        }
      ]
    }
  ]
}