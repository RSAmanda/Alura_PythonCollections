{
  "nbformat": 4,
  "nbformat_minor": 0,
  "metadata": {
    "colab": {
      "provenance": [],
      "authorship_tag": "ABX9TyPV3bYNJ/vpxYOaVpSoO4pU",
      "include_colab_link": true
    },
    "kernelspec": {
      "name": "python3",
      "display_name": "Python 3"
    },
    "language_info": {
      "name": "python"
    }
  },
  "cells": [
    {
      "cell_type": "markdown",
      "metadata": {
        "id": "view-in-github",
        "colab_type": "text"
      },
      "source": [
        "<a href=\"https://colab.research.google.com/github/RSAmanda/Alura_PythonCollections/blob/main/Projeto_PythonCollections_Alura.ipynb\" target=\"_parent\"><img src=\"https://colab.research.google.com/assets/colab-badge.svg\" alt=\"Open In Colab\"/></a>"
      ]
    },
    {
      "cell_type": "markdown",
      "source": [
        "#Contador de caracteres de um texto:\n",
        "- criar uma função que calcula a frequência dos caracteres em um texto.\n"
      ],
      "metadata": {
        "id": "UMgmyfyD58uj"
      }
    },
    {
      "cell_type": "code",
      "source": [
        "#importando o Counter\n",
        "from collections import Counter"
      ],
      "metadata": {
        "id": "JZg9oDCA6tfS"
      },
      "execution_count": 8,
      "outputs": []
    },
    {
      "cell_type": "code",
      "execution_count": 23,
      "metadata": {
        "id": "zWiyy_Tm1ZjQ"
      },
      "outputs": [],
      "source": [
        "#definindo a função\n",
        "def analisa_frequencia_de_letras(texto):\n",
        "  aparicoes = Counter(texto.lower())\n",
        "  total_de_caracteres = sum(aparicoes.values())\n",
        "\n",
        "  proporcoes = [(letra, frequencia / total_de_caracteres) for letra, frequencia in aparicoes.items()]\n",
        "  proporcoes = Counter(dict(proporcoes))\n",
        "  mais_comuns = proporcoes.most_common(10)\n",
        "  for caractere, proporcao in mais_comuns:\n",
        "    print(\"{} => {:0>5.2f}%\".format(caractere, proporcao * 100))"
      ]
    },
    {
      "cell_type": "markdown",
      "source": [
        "exemplo de texto usando *lipsum lorem*.\n",
        "- 50 parágrafos gerados por: https://www.lipsum.com/"
      ],
      "metadata": {
        "id": "MxmZQDeG7aXE"
      }
    },
    {
      "cell_type": "code",
      "source": [
        "texto1 = '''\n",
        "Lorem ipsum dolor sit amet, consectetur adipiscing elit. Mauris tristique ac lectus eget consectetur. Maecenas nibh ex, porttitor laoreet lacus sit amet, scelerisque rutrum justo. In et urna mauris. Curabitur dapibus sollicitudin quam eget lacinia. Maecenas faucibus lorem at ante egestas fermentum. Mauris feugiat leo ut ex tristique, non convallis lorem vestibulum. Aenean nibh mauris, posuere sed lacus nec, pharetra pellentesque mi. Mauris et felis quis lacus tincidunt tincidunt at sit amet augue. Integer nibh erat, lobortis tincidunt feugiat sit amet, ultrices ut neque. Integer et enim nec eros interdum lacinia. Aliquam tincidunt eget lorem id posuere. In tincidunt augue id egestas ultrices. Duis lacinia aliquam elit non pretium. Nulla posuere, nisi eu facilisis viverra, turpis urna interdum risus, nec rhoncus mauris nulla in lectus.\n",
        "\n",
        "Maecenas lobortis sodales consequat. Suspendisse neque augue, vehicula quis massa ac, sagittis vestibulum ante. Quisque ornare leo a tincidunt porttitor. Mauris euismod iaculis consequat. Quisque interdum pretium fermentum. Suspendisse convallis porttitor leo in iaculis. Ut eleifend nunc eu diam mollis maximus.\n",
        "\n",
        "Cras suscipit lorem eu sapien varius viverra. Mauris in tortor vitae sapien laoreet vestibulum. Quisque mollis leo sem, ac molestie ante rutrum nec. Ut posuere sagittis efficitur. Interdum et malesuada fames ac ante ipsum primis in faucibus. Pellentesque pulvinar est ac diam consequat sagittis. Proin ligula mauris, interdum a ligula quis, semper ultrices orci. Lorem ipsum dolor sit amet, consectetur adipiscing elit. In eget ipsum ut magna accumsan faucibus. In hendrerit metus at mauris malesuada mollis. Suspendisse tristique dui ut viverra tincidunt. Nullam et maximus dui. Phasellus urna elit, dapibus sit amet quam quis, efficitur iaculis tellus. Aliquam ullamcorper ullamcorper orci, sed ultrices tortor dapibus nec. Pellentesque commodo dignissim lorem.\n",
        "\n",
        "In id mi ut arcu vehicula cursus. Lorem ipsum dolor sit amet, consectetur adipiscing elit. Mauris arcu sem, convallis vel scelerisque lacinia, fringilla sed quam. Donec vitae nulla et mauris porttitor eleifend. Morbi turpis augue, pharetra eget bibendum ut, tincidunt eget quam. Mauris euismod pulvinar est eget facilisis. Maecenas lobortis luctus nisl, eget consequat erat pretium quis. Vivamus tincidunt mi et metus consequat, quis aliquet nisi luctus. Morbi eget sem consequat, ultrices elit imperdiet, sagittis lorem.\n",
        "\n",
        "Morbi ultrices laoreet laoreet. Integer auctor nisl non metus fringilla, ultrices imperdiet sem faucibus. Duis lobortis ex gravida ex varius, quis congue leo placerat. Mauris congue luctus nunc, in commodo nibh facilisis vitae. Nulla at maximus nisl. Nulla eu tortor nibh. Donec et porta est. Maecenas scelerisque erat sit amet metus fringilla, tempus ornare magna lacinia.\n",
        "\n",
        "Sed iaculis molestie interdum. Duis id orci id nibh aliquet luctus. Pellentesque dictum purus ipsum, vitae sodales tellus dictum et. Pellentesque sollicitudin turpis id mattis convallis. Nullam congue mauris nec mollis convallis. Curabitur viverra vel ex non feugiat. Nam risus sem, auctor ut metus quis, rutrum varius nisi. Donec id neque sed sapien luctus ornare non in massa. Donec non eros elit. Maecenas ornare magna feugiat turpis commodo, id pretium tortor pharetra. Vivamus maximus condimentum lobortis. Donec eu tristique neque. Fusce ultrices tellus bibendum molestie feugiat. Nam nec libero pretium, convallis sapien viverra, suscipit enim.\n",
        "\n",
        "Fusce ac consequat ligula. Quisque sed urna vitae ante tincidunt luctus. Etiam tincidunt velit et aliquet tincidunt. Fusce eget egestas eros. Vivamus quis tempor orci. Suspendisse convallis mi ligula, ut blandit justo mattis id. Cras at tempor turpis, quis ultrices tellus. Fusce lectus nibh, vehicula sed efficitur eu, tincidunt eget nibh. Cras blandit, nibh ac bibendum tincidunt, ipsum tellus tincidunt massa, sit amet ullamcorper nulla nunc ac risus. Mauris sollicitudin nunc vitae erat congue facilisis. Vivamus sit amet enim non sapien eleifend auctor. Mauris elementum fermentum odio, et ultrices risus cursus id. Donec accumsan metus et scelerisque consequat.\n",
        "\n",
        "In molestie sodales massa, ac auctor ante fermentum vel. Praesent sed tincidunt lectus, porttitor pellentesque metus. Vestibulum ante ipsum primis in faucibus orci luctus et ultrices posuere cubilia curae; Pellentesque imperdiet fermentum sem, ac interdum justo. Etiam eget mauris lectus. Phasellus sed cursus enim. Praesent nisl lacus, congue non augue non, feugiat porta massa. Donec imperdiet est id mi placerat auctor. Vivamus vitae tempor nisl, vitae blandit nibh. Phasellus a massa sit amet nibh lacinia mattis.\n",
        "\n",
        "Duis egestas, nisi eget tincidunt vestibulum, purus odio fermentum orci, quis bibendum nibh nisi vitae orci. Duis tempor ornare ante eu scelerisque. In a interdum ligula, sed vehicula nunc. Duis et consequat velit, ac placerat ligula. Nam massa nunc, imperdiet eu orci in, dignissim tristique libero. Ut sed ipsum finibus, convallis tellus a, vulputate massa. Lorem ipsum dolor sit amet, consectetur adipiscing elit. Suspendisse ullamcorper, enim a elementum ornare, sem leo pellentesque enim, in molestie sapien dolor ut elit.\n",
        "\n",
        "Aenean lobortis tristique lobortis. Sed interdum ante id tortor tristique ultricies. Nulla porttitor vehicula feugiat. In lobortis dolor vel venenatis sollicitudin. Quisque posuere lacinia lacinia. In maximus purus non vehicula ullamcorper. Duis tempor ante et pellentesque rhoncus. Vivamus tempus ullamcorper venenatis. In ornare lacus et accumsan efficitur.\n",
        "\n",
        "Maecenas dictum, odio feugiat elementum commodo, ipsum orci pharetra sapien, in bibendum dui purus quis enim. Vivamus vel tortor leo. Nam congue eget elit vitae ultrices. Cras ipsum turpis, finibus a placerat sit amet, feugiat at mi. Quisque efficitur sagittis fringilla. Aenean quam neque, porttitor sit amet scelerisque et, venenatis eu nulla. Maecenas fermentum nisi justo, sed aliquam sem cursus sit amet. Mauris tincidunt massa placerat elit efficitur hendrerit. Phasellus placerat interdum est et cursus. Morbi lobortis eros ut consectetur iaculis. Aliquam vitae diam eget metus ultrices finibus. Nam venenatis luctus porttitor. Donec vulputate arcu at porttitor fermentum.\n",
        "\n",
        "Donec lobortis pellentesque fermentum. Sed fringilla aliquam tortor, id egestas nunc. Donec quis quam aliquam, maximus nisi sit amet, finibus arcu. Duis finibus nibh eu lectus congue, at viverra arcu semper. Nam pretium nisl eu aliquet egestas. Mauris elementum lobortis metus, eget finibus arcu fringilla vel. Orci varius natoque penatibus et magnis dis parturient montes, nascetur ridiculus mus. Morbi ut maximus nisl. Nam sit amet lectus non ligula congue vulputate nec ut purus. Morbi volutpat sapien id eros congue, non fringilla sapien efficitur. Ut ullamcorper congue mauris, quis efficitur urna lobortis imperdiet. Fusce ut finibus nisl, sed lobortis ante. Aliquam molestie, velit quis tincidunt molestie, odio mauris lacinia magna, at lobortis nisi lorem sed dolor. Proin vitae dolor tincidunt, commodo ante eget, lacinia leo. Vivamus euismod euismod est ac scelerisque. Nulla vel posuere lorem.\n",
        "\n",
        "Nunc pulvinar ipsum porttitor dapibus elementum. Suspendisse potenti. Nam a semper lacus, in egestas nisi. Quisque ac dui ac mi tincidunt imperdiet et consectetur ipsum. Donec vulputate ante nisl, at tristique tortor consectetur eu. Ut ac posuere eros, vel auctor nisi. Integer elementum aliquam aliquet. Duis porta neque dui, vitae varius risus bibendum id. Nunc porta posuere fermentum. Nullam sollicitudin nunc lorem, sed euismod nibh rhoncus at. Vestibulum eget enim efficitur, volutpat metus at, ullamcorper libero.\n",
        "\n",
        "Quisque nec vestibulum leo. Duis augue justo, rutrum ut lobortis in, dignissim non arcu. Aliquam erat volutpat. Curabitur sed mauris nec quam dictum lacinia ac eu velit. Nunc auctor ante ut arcu sagittis convallis quis ac ipsum. Duis tincidunt sapien sed turpis auctor, ut feugiat odio elementum. Curabitur eleifend risus non vulputate dictum. Nulla ut quam pellentesque, fermentum enim nec, tristique leo.\n",
        "\n",
        "Sed interdum erat ac magna tincidunt laoreet. In nunc sapien, consequat a tempor at, facilisis non metus. Aenean scelerisque velit vitae ante tristique dictum. Morbi interdum, ipsum a tincidunt suscipit, diam ipsum dapibus ex, id sollicitudin nulla sem in metus. Suspendisse vulputate condimentum ante, ut commodo magna tristique id. Mauris ut interdum lorem. Cras sodales nibh non neque porta vulputate. Suspendisse diam nibh, sodales quis pulvinar et, ultrices a ante. Etiam non tellus sed metus pulvinar molestie. In rutrum non leo eu hendrerit. Donec accumsan sollicitudin ex eget laoreet.\n",
        "\n",
        "Curabitur eget mollis nulla, at maximus justo. Suspendisse placerat arcu felis, quis rutrum magna luctus non. Vivamus sit amet porta magna, a condimentum est. Donec libero nisl, consequat at vestibulum et, mollis id nulla. Vestibulum eget finibus arcu, tincidunt laoreet mi. Pellentesque quis facilisis eros. Duis nec consectetur elit. Cras pretium at neque id aliquam. Phasellus fermentum, mauris a porta euismod, sapien dui accumsan arcu, ornare sagittis ligula justo ut est. In non diam quam. Aenean nec sapien ex.\n",
        "\n",
        "Suspendisse potenti. Pellentesque habitant morbi tristique senectus et netus et malesuada fames ac turpis egestas. Donec laoreet erat non vestibulum semper. Aliquam cursus, sapien ac vestibulum suscipit, eros libero fermentum magna, nec auctor justo ligula vel dui. Sed tincidunt pretium risus, in varius massa hendrerit at. Quisque porta, dolor a mollis pharetra, mauris arcu gravida neque, non auctor velit metus vitae erat. Nam fringilla, ipsum non tempor efficitur, lorem est ornare ex, in mattis sem felis eu velit. Donec quis odio purus. Nulla facilisi. Praesent lacinia nisl massa, vel hendrerit quam sodales viverra. Duis vel aliquam arcu. Aenean vulputate placerat ornare. Vestibulum tincidunt augue eu elit tincidunt placerat.\n",
        "\n",
        "Sed sagittis eros vitae turpis tempor feugiat. Donec commodo scelerisque porta. Proin interdum porttitor ligula vitae mollis. Curabitur cursus ex magna, eu rutrum justo semper ac. Nam auctor ante nec nisi consectetur imperdiet. Suspendisse potenti. Cras dignissim, lacus quis dictum vulputate, risus enim placerat massa, quis convallis erat metus in turpis. Donec dapibus sem a risus ultricies, ac porttitor augue malesuada. Nullam venenatis nisl vitae erat vehicula, quis tincidunt eros ornare. Interdum et malesuada fames ac ante ipsum primis in faucibus. Vestibulum eu augue id metus euismod faucibus ut in lorem. Suspendisse ac gravida ipsum, vitae ultrices velit. Ut nec porttitor magna. Cras et ipsum turpis. Suspendisse neque enim, varius a odio vel, ultrices tempus ante.\n",
        "\n",
        "Praesent luctus, ex et mattis blandit, sem ante imperdiet quam, non cursus nunc libero eu elit. Vivamus efficitur, eros et imperdiet vulputate, erat odio aliquam lorem, id tincidunt tellus nisi nec odio. Nunc augue mauris, molestie commodo eleifend sit amet, hendrerit ut nisi. Fusce accumsan mauris ac magna suscipit, vel viverra nunc vestibulum. Suspendisse cursus dui ut viverra efficitur. Nulla efficitur neque sapien, in convallis arcu auctor eget. Sed vel ullamcorper turpis. Donec vel felis sed ligula luctus ornare. Duis at ornare sapien. Phasellus consequat velit accumsan arcu sollicitudin, in fringilla ex pulvinar. Ut fringilla bibendum massa eget tristique. Etiam scelerisque tempor nulla, vitae maximus sem. Proin in ex et turpis rhoncus imperdiet. Orci varius natoque penatibus et magnis dis parturient montes, nascetur ridiculus mus. Praesent in ante suscipit, eleifend nunc eget, lacinia mi. Donec nec dapibus libero.\n",
        "\n",
        "Sed maximus id felis at pellentesque. Aenean in porta orci. Mauris dignissim et massa vitae accumsan. Nulla sed dolor non magna fermentum ullamcorper eget sit amet odio. Sed maximus laoreet leo a tempus. Suspendisse nec volutpat massa, sit amet sagittis leo. Vivamus tempor lacus eros, nec dictum nisl ultricies ut. Nulla ac sem fringilla tortor pulvinar luctus sit amet in nibh.\n",
        "\n",
        "In sed felis maximus neque varius luctus vel in quam. Nam dui libero, tristique eget mauris et, iaculis accumsan mi. Sed tempor sagittis eros. Morbi sit amet risus efficitur, congue turpis ac, facilisis risus. Donec et mi odio. Fusce ac tempor arcu, in iaculis orci. Donec velit enim, ultricies et commodo eget, maximus consequat lorem. In commodo orci eget aliquam ultrices. Aliquam erat volutpat. Duis ut cursus metus. In semper, lectus vel volutpat molestie, dui risus convallis urna, nec ultrices leo erat ac quam. In sed volutpat erat, a vehicula tellus. Pellentesque habitant morbi tristique senectus et netus et malesuada fames ac turpis egestas. Aenean tincidunt elit libero, quis elementum sem mattis ac. Nulla ornare arcu enim, sed aliquet lacus lacinia sed.\n",
        "\n",
        "Donec elementum pretium ipsum id posuere. Vivamus scelerisque mauris quis suscipit porta. Pellentesque nec massa maximus, tempus augue ut, gravida odio. Mauris rhoncus id nisl sit amet sagittis. Curabitur placerat ac ante vel euismod. Mauris eget erat id dolor tincidunt volutpat. Donec eleifend risus vitae lorem blandit, id euismod ligula consectetur. Quisque in felis sollicitudin erat finibus feugiat. Curabitur fermentum, ligula ut tincidunt molestie, libero mi bibendum nisi, et feugiat purus mauris vitae turpis.\n",
        "\n",
        "Pellentesque sed risus sodales, ultrices ligula at, commodo ligula. Suspendisse metus dolor, iaculis at tincidunt ac, blandit in urna. Duis ultricies turpis sodales felis rhoncus, et dignissim sapien pharetra. Nulla non facilisis nibh, vitae venenatis leo. Proin eleifend velit quis vehicula molestie. Nunc aliquet nunc enim, ultricies vulputate quam laoreet ac. Nullam fermentum velit vitae eros tincidunt, in blandit felis sodales.\n",
        "\n",
        "Cras fringilla augue eget arcu convallis, non sagittis nisi viverra. Praesent magna lectus, luctus a erat sed, auctor iaculis nisl. Etiam ligula nunc, eleifend eu elementum nec, mattis non justo. Vestibulum nec vestibulum dolor, vitae facilisis ex. Proin vestibulum, felis vitae porttitor congue, nunc justo lobortis nibh, eget fermentum lectus metus id leo. Maecenas ac arcu in massa porta laoreet ut eu dui. Sed congue aliquam libero in commodo. Curabitur sit amet felis justo. Morbi id nibh nec ante venenatis aliquet. Nam nec ligula dui. Maecenas dapibus arcu urna. Aliquam cursus purus vitae aliquam tristique. Suspendisse ante purus, egestas ac bibendum id, blandit ut ligula. Mauris vitae mauris lorem. Suspendisse egestas tellus ut lorem convallis, et aliquet nisi fringilla.\n",
        "\n",
        "In quis elit sed dui eleifend condimentum. Aenean sit amet augue tincidunt, pulvinar erat imperdiet, euismod mi. Sed ac lectus venenatis orci maximus varius sed eu urna. Fusce porttitor lectus enim, eget dignissim neque vestibulum a. Integer urna nibh, sollicitudin vitae pulvinar et, sollicitudin non diam. Praesent malesuada quis nisi id pellentesque. In congue eros augue, a suscipit diam sagittis sed. Nulla facilisi.\n",
        "\n",
        "Duis sodales mattis nulla vel tempus. Curabitur a facilisis metus, vel pellentesque nibh. Pellentesque eu urna at velit porttitor congue hendrerit id sem. Sed non sem diam. Integer vel placerat nisl. Etiam quis nisl et purus tempor pretium at et lorem. Donec nec nibh et turpis faucibus ornare. Nullam nec neque eu elit auctor commodo. Donec scelerisque ullamcorper enim sed sagittis. Ut id pharetra sem. Mauris sit amet ante sit amet enim ultrices auctor. Duis est urna, venenatis bibendum diam ut, laoreet consequat ipsum. Suspendisse maximus dui ac ornare condimentum. Morbi id consectetur sapien. Vivamus sit amet tortor commodo, pulvinar orci id, fringilla libero. Vivamus eleifend lacus id dolor vulputate, eget imperdiet turpis cursus.\n",
        "\n",
        "Etiam in auctor dui. Duis varius sed leo eleifend porta. Ut vel elit nibh. Mauris euismod egestas nisl, id ornare enim. Aliquam lobortis finibus erat. Morbi at nisl nisl. Ut et mauris pellentesque, porttitor lorem ut, tristique ex. Vivamus ac dui ac diam sodales faucibus nec id nisi. Aliquam blandit elit tortor, in semper libero egestas a. Nulla molestie justo risus, et maximus nunc varius at. Morbi fermentum faucibus luctus.\n",
        "\n",
        "Maecenas a molestie ex. Mauris rhoncus vel turpis eu sodales. Mauris non diam vel nisi tristique molestie. Nulla eu rhoncus neque. Donec non maximus nisi, at dignissim arcu. Nam vel iaculis massa, cursus auctor nisi. Nullam elementum cursus volutpat. Orci varius natoque penatibus et magnis dis parturient montes, nascetur ridiculus mus. Vestibulum nec urna ac turpis posuere dignissim. Vestibulum tellus neque, ultricies non risus ac, feugiat porta nulla. Sed gravida aliquet nisl, vitae aliquam quam porta rutrum. Proin ac vulputate erat. Nulla viverra porta tellus quis hendrerit.\n",
        "\n",
        "Vivamus vel eleifend libero, ac rutrum neque. Proin porta, mauris pretium commodo condimentum, ante eros sollicitudin lorem, sed sodales orci nisl a enim. Donec ultricies nunc eu quam gravida, et pulvinar ligula sodales. Sed ullamcorper, purus ut venenatis tincidunt, odio eros vulputate neque, id porta neque nisl eget neque. In varius egestas ipsum at hendrerit. Proin eget eros lobortis, varius nunc id, rutrum velit. Duis feugiat euismod volutpat. Sed vulputate, odio et interdum aliquam, orci ligula finibus quam, at dapibus eros metus et massa. Integer felis metus, luctus ac nulla vel, luctus lobortis arcu. Vivamus in arcu nibh. Etiam luctus nisi sem, vitae interdum metus aliquam quis. Ut auctor imperdiet velit ut blandit. Mauris blandit scelerisque nisl, sed lacinia risus vulputate vel. Sed non nibh eget est bibendum interdum vel ac neque. Vestibulum leo libero, molestie tempus ex eu, fringilla pharetra orci.\n",
        "\n",
        "Ut fermentum lectus ligula, nec porttitor magna tristique at. Sed a sapien suscipit, pellentesque nunc vitae, gravida ex. Donec id ligula vitae nisi sollicitudin imperdiet. Integer blandit eu sapien eget pretium. Curabitur et nisl et neque accumsan cursus. Vestibulum varius purus vel augue varius maximus. Sed et aliquet lectus.\n",
        "\n",
        "Praesent hendrerit, odio nec ultricies ultrices, risus nisi feugiat neque, ut placerat lorem odio feugiat felis. Duis posuere nisi a nisi porttitor pharetra. Nunc sed tempus leo. Orci varius natoque penatibus et magnis dis parturient montes, nascetur ridiculus mus. Phasellus scelerisque vel nibh ac laoreet. Praesent vel faucibus mi. Pellentesque habitant morbi tristique senectus et netus et malesuada fames ac turpis egestas. Quisque elementum facilisis posuere. Sed vestibulum blandit convallis. Vivamus gravida urna arcu, aliquet dapibus nisl volutpat vel.\n",
        "\n",
        "Suspendisse potenti. Aliquam erat volutpat. Aenean varius rhoncus mauris at semper. Maecenas sollicitudin congue elit, eu vulputate odio mattis in. Vivamus a nunc a urna consequat rutrum. Proin arcu nunc, tempor quis arcu ac, consectetur porttitor velit. Suspendisse libero orci, finibus eu mi ultricies, vehicula vestibulum dolor. Class aptent taciti sociosqu ad litora torquent per conubia nostra, per inceptos himenaeos. Morbi ac tincidunt mauris, a venenatis dolor. Suspendisse potenti. Donec vehicula efficitur facilisis. Integer gravida tempus viverra. Aliquam laoreet odio sodales libero ultrices, nec gravida sapien pretium. Maecenas pulvinar purus et massa scelerisque, a eleifend massa consequat.\n",
        "\n",
        "Maecenas laoreet, enim et egestas dictum, ipsum magna porttitor turpis, ac facilisis felis arcu in magna. Curabitur at ante molestie, bibendum augue in, interdum mauris. Suspendisse cursus aliquam lectus in rutrum. Sed sed leo posuere, mattis urna eu, imperdiet ex. Phasellus ut magna purus. Fusce sed posuere libero. Sed quis ullamcorper ante. Nulla et condimentum dolor. Vivamus sit amet tristique velit. Cras dapibus sed tortor ut porttitor. Phasellus aliquam mollis felis, id blandit nunc porttitor ut. Fusce ac varius neque, ultrices dapibus metus.\n",
        "\n",
        "In lacinia aliquet turpis, et pellentesque enim condimentum vitae. Cras sed egestas sapien. Phasellus vitae ultricies massa. Vivamus purus orci, sodales at nisl et, sollicitudin blandit libero. Proin eget mi purus. Morbi pellentesque eleifend lorem, in porttitor tellus varius sit amet. Nulla blandit, massa non dapibus porta, augue felis vulputate libero, a dignissim libero sapien eget orci. Etiam posuere erat blandit orci pharetra pulvinar. Phasellus mollis risus ut nunc egestas, eget posuere nisi ullamcorper. Etiam molestie eu ligula varius luctus. Donec magna diam, tincidunt at ligula vel, molestie fermentum magna. Vivamus rhoncus ut ex pulvinar elementum. Fusce lorem nisl, consequat ac magna sit amet, sagittis volutpat dui. Aenean ut sollicitudin risus, id tincidunt purus. Fusce sed nibh ut leo blandit bibendum.\n",
        "\n",
        "Maecenas nisl neque, egestas vitae nibh quis, faucibus sodales tortor. Quisque libero sem, blandit ut condimentum non, finibus at ex. Cras malesuada sagittis eros, in viverra dolor rhoncus eget. Phasellus euismod ante in dolor cursus ornare. Aenean a ultrices urna. Morbi sit amet scelerisque orci, ac consequat enim. In congue tristique sapien sit amet tincidunt.\n",
        "\n",
        "Maecenas sagittis velit non risus maximus, non auctor magna congue. Mauris sed dui nisi. Ut consequat tellus at lacus sollicitudin tincidunt. Donec sit amet accumsan massa, at tristique velit. Integer ut felis in neque fermentum vehicula vitae eget dolor. Nunc ornare enim ut nulla pellentesque eleifend. Nulla ac ultricies risus. Sed efficitur consectetur erat, tincidunt consequat felis rutrum vitae. Mauris tristique dui quam, in dignissim erat lacinia et. Lorem ipsum dolor sit amet, consectetur adipiscing elit. Integer felis ante, suscipit finibus bibendum et, consectetur ac mi. Donec suscipit eleifend velit et accumsan.\n",
        "\n",
        "Pellentesque eget neque egestas, vulputate ante finibus, viverra sem. Donec at leo sed odio molestie vestibulum. Phasellus accumsan, sem in feugiat aliquam, tellus leo gravida eros, vel consequat quam lectus et neque. Nam efficitur auctor ultricies. Maecenas at fringilla nulla. Etiam lacinia metus in ornare efficitur. In aliquam laoreet faucibus. Suspendisse consequat pharetra ante, vitae dictum quam lobortis malesuada. Ut ullamcorper pellentesque orci, sit amet consequat risus efficitur at. Phasellus eget odio quis elit auctor facilisis ac nec elit. Integer vulputate, nulla finibus semper tincidunt, dolor lorem accumsan risus, ac maximus mi nisl tempus lectus. Integer efficitur dictum elit ut consequat. Nam fringilla turpis sed mi aliquet consectetur. Praesent auctor sed ante vitae ullamcorper. Phasellus lorem metus, fermentum eget erat id, sodales ornare ex. Phasellus tincidunt viverra egestas.\n",
        "\n",
        "Curabitur nec facilisis arcu. Vestibulum eu orci sed enim elementum feugiat eget quis enim. In ac ex a ex scelerisque porttitor. Nullam posuere nisl a sem ullamcorper, quis venenatis nisi porta. Cras lacinia finibus odio a venenatis. Donec consectetur ante eget ornare volutpat. In eu sapien massa. In ac leo eu ipsum blandit mollis. Phasellus venenatis vitae est vel pulvinar. Duis euismod sem non vulputate congue. Phasellus congue, est eu consectetur malesuada, erat lacus eleifend arcu, ut vestibulum risus nibh vitae odio. Nullam ultrices magna non libero fringilla faucibus eget eu urna. Cras aliquet diam a massa facilisis, id auctor ipsum porta. Aenean rhoncus commodo est, id accumsan erat tincidunt eget. Integer accumsan tristique nisl vel congue. Cras malesuada consectetur fermentum.\n",
        "\n",
        "Mauris ac gravida tellus. Suspendisse at purus bibendum, tincidunt turpis eu, pulvinar nulla. Morbi non fermentum nibh. Maecenas in turpis risus. Nullam at est eget ante aliquet blandit. Integer massa mauris, tempor in rhoncus id, tincidunt eu risus. Praesent ac porttitor magna. Sed id purus augue. Aliquam hendrerit, velit sed tincidunt vestibulum, urna enim condimentum nunc, nec sodales nibh tortor vitae dui. Phasellus erat tellus, ultricies nec augue vitae, volutpat sollicitudin felis. Fusce auctor mattis placerat. Nunc et eros nec urna lacinia tempor. Class aptent taciti sociosqu ad litora torquent per conubia nostra, per inceptos himenaeos. Nam ligula nisl, semper id lectus eu, cursus efficitur felis. Nullam imperdiet arcu at nisl dictum viverra vitae id ligula.\n",
        "\n",
        "Vivamus dictum quam risus, non consequat ipsum ornare ut. Pellentesque viverra varius risus, vel hendrerit elit finibus a. Nullam ultricies faucibus eros ac elementum. Morbi ante lectus, malesuada ut lacus vitae, aliquam malesuada augue. Suspendisse est ipsum, malesuada id augue nec, pretium semper urna. Nunc eu lectus suscipit, sagittis sem eget, cursus metus. Proin eu elit molestie, placerat purus quis, tempus nulla. Vivamus pretium, sapien vel sollicitudin gravida, ante nisi ullamcorper mi, eu semper tellus elit vel arcu. Nunc vehicula, velit sit amet pharetra ornare, mauris lacus aliquam elit, vitae sollicitudin sapien ligula accumsan odio. Sed in quam eget nisl pretium pretium. Maecenas iaculis fermentum dui at euismod.\n",
        "\n",
        "Sed non nibh ipsum. Aliquam mattis leo eros, nec sagittis tellus tristique vitae. Quisque porttitor lorem eget tellus rutrum tempus. Curabitur tincidunt erat sed dolor pretium accumsan. Orci varius natoque penatibus et magnis dis parturient montes, nascetur ridiculus mus. Fusce imperdiet at tellus id iaculis. Phasellus facilisis dui in est ornare faucibus.\n",
        "\n",
        "Pellentesque habitant morbi tristique senectus et netus et malesuada fames ac turpis egestas. Maecenas eu lacinia nulla. Quisque vitae purus nibh. Pellentesque tempor enim lacus, malesuada consectetur dolor porttitor non. Vestibulum mattis ornare enim, vitae sagittis magna faucibus non. Fusce ex nibh, dapibus at lectus quis, euismod vulputate justo. Phasellus feugiat augue rhoncus facilisis consectetur. Sed vehicula felis viverra, convallis urna aliquet, porta felis. Sed egestas elit at iaculis facilisis.\n",
        "\n",
        "Praesent dignissim lectus eu ultrices dignissim. Integer sed ante vel lectus volutpat varius. Pellentesque egestas dictum libero. Etiam a fringilla elit. Donec ornare, arcu non mattis hendrerit, lectus massa blandit tortor, ac tristique lorem ante at nulla. Donec sit amet semper massa. Integer aliquet sem nec quam porttitor pulvinar. Etiam porta eu tortor in facilisis. Integer ante tortor, mollis a lacinia ut, ultrices quis mi. Phasellus lorem nunc, tempor non vulputate non, mattis in risus. Phasellus suscipit lacus a sapien rutrum, suscipit aliquam tortor convallis. Maecenas maximus, erat vel tincidunt semper, ligula neque laoreet felis, sed aliquam est ex ut felis. Ut condimentum ipsum nunc, eget euismod nulla mollis vel. In egestas magna eget mauris vulputate venenatis. Cras eget tincidunt metus.\n",
        "\n",
        "Suspendisse ut augue et neque condimentum ultrices sed vel elit. Cras at convallis nisi. Cras vitae hendrerit justo. Curabitur ac pellentesque nisl. Vivamus bibendum nibh sed justo molestie facilisis. Nunc accumsan sagittis convallis. Aliquam erat volutpat. Vestibulum vitae mauris quis lectus tempus interdum eu in dui.\n",
        "\n",
        "Nam mi turpis, interdum at sollicitudin quis, aliquet sit amet nibh. Maecenas ultrices malesuada est eget fringilla. Ut orci erat, posuere non urna in, consequat dapibus turpis. Donec cursus felis ut lectus varius bibendum. Cras pretium diam quis ligula rutrum, ullamcorper auctor turpis dictum. Nam aliquet, neque et euismod auctor, elit neque elementum nisi, ut molestie eros justo nec elit. Ut facilisis urna ut cursus viverra. Ut egestas lorem non dui accumsan commodo. Vivamus in posuere massa, id tempor risus. In hac habitasse platea dictumst. Pellentesque sit amet nisl sit amet sem scelerisque dapibus eu et est. Sed sed suscipit nulla, a egestas augue. Praesent sagittis lobortis sem condimentum condimentum. Lorem ipsum dolor sit amet, consectetur adipiscing elit. Quisque malesuada ipsum scelerisque posuere pretium.\n",
        "\n",
        "Donec id sollicitudin nulla. Nam venenatis urna congue dapibus luctus. Cras quis fringilla purus. Sed feugiat augue ex, eu consectetur ipsum suscipit vitae. Ut in augue nec leo accumsan gravida sed et ex. Nullam aliquam, quam vel pellentesque cursus, massa ante imperdiet ligula, id fringilla nunc sem sit amet odio. Cras nec vulputate enim, et tempor metus. Quisque vel sodales felis, elementum scelerisque magna. Suspendisse at nunc mollis risus tempus vulputate. Aenean dictum turpis in urna laoreet sollicitudin. Vestibulum quis tincidunt elit. Pellentesque lobortis aliquam magna id semper.\n",
        "\n",
        "Nunc lobortis tempor aliquam. Integer consectetur lorem est, sagittis volutpat tortor gravida non. Phasellus eu mattis eros, ac tincidunt elit. Nullam ac urna venenatis, convallis sem ac, mollis erat. Nullam id libero magna. Vivamus rutrum metus nibh. Class aptent taciti sociosqu ad litora torquent per conubia nostra, per inceptos himenaeos.\n",
        "\n",
        "Vestibulum ante ipsum primis in faucibus orci luctus et ultrices posuere cubilia curae; Morbi dapibus sit amet tellus ut ullamcorper. Aliquam ac nunc at dolor ullamcorper aliquet in et ante. Duis bibendum iaculis lorem at sodales. Vestibulum eget ullamcorper metus. Nullam sapien arcu, lacinia quis lectus sed, vehicula laoreet turpis. Nam ac turpis tortor. Ut congue dictum fermentum. Nullam vulputate vel ante id porttitor. Pellentesque eu malesuada felis. Aliquam ac sagittis quam. Nunc fermentum risus eget sapien pretium, consequat laoreet risus feugiat. Maecenas euismod, lacus eu sodales imperdiet, est libero sodales leo, a vulputate neque odio vitae nunc. Aenean a eros dolor.\n",
        "\n",
        "Morbi ultricies lacus id elit tincidunt rhoncus. Ut eros erat, eleifend sed nisi non, lobortis lobortis tortor. Integer pharetra sagittis lectus at volutpat. Duis vitae vulputate diam. Sed nec lobortis nibh. Vivamus mauris augue, dignissim dapibus faucibus sed, vulputate ac ex. Quisque faucibus suscipit risus sit amet maximus. Aliquam erat volutpat. Etiam in arcu elit. Vivamus mollis sodales ligula.\n",
        "\n",
        "Duis erat ante, pulvinar eu lacinia vel, blandit sit amet nisi. Sed sagittis eget magna id mattis. Praesent tincidunt augue eu ultricies aliquam. Nunc eu mauris leo. Aliquam fermentum eleifend laoreet. Nunc auctor ipsum velit, vitae tincidunt urna semper sed. Phasellus nec mollis neque, sit amet vehicula urna. Praesent leo lorem, finibus et odio a, interdum imperdiet turpis. Maecenas pretium dignissim tortor, eu molestie elit finibus et. Orci varius natoque penatibus et magnis dis parturient montes, nascetur ridiculus mus. Phasellus ac urna non lectus hendrerit porta. Mauris id venenatis diam, a pretium nulla. Aenean elementum vitae eros et aliquam. Aliquam est risus, consectetur vel blandit ut, scelerisque vel tellus. Nullam quis maximus massa. Proin quam nunc, faucibus et ante et, varius sagittis massa.'''"
      ],
      "metadata": {
        "id": "DYJ4GuOl6gTI"
      },
      "execution_count": 14,
      "outputs": []
    },
    {
      "cell_type": "code",
      "source": [
        "analisa_frequencia_de_letras(texto1)"
      ],
      "metadata": {
        "colab": {
          "base_uri": "https://localhost:8080/"
        },
        "id": "6ou5xnHN6lNf",
        "outputId": "babc7cb2-1825-4a53-8359-a40413a25d92"
      },
      "execution_count": 24,
      "outputs": [
        {
          "output_type": "stream",
          "name": "stdout",
          "text": [
            "  => 14.57%\n",
            "e => 09.35%\n",
            "i => 08.51%\n",
            "u => 07.41%\n",
            "s => 07.11%\n",
            "t => 06.97%\n",
            "a => 06.72%\n",
            "n => 05.27%\n",
            "l => 04.74%\n",
            "r => 04.67%\n"
          ]
        }
      ]
    }
  ]
}